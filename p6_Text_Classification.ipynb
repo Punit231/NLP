{
 "cells": [
  {
   "cell_type": "markdown",
   "id": "c1edce53",
   "metadata": {},
   "source": [
    "Practical - 6 : Implementation of text classification using Naive Bayes, SVM."
   ]
  },
  {
   "cell_type": "code",
   "execution_count": 5,
   "id": "d8410d83",
   "metadata": {},
   "outputs": [
    {
     "name": "stderr",
     "output_type": "stream",
     "text": [
      "[nltk_data] Downloading package stopwords to\n",
      "[nltk_data]     C:\\Users\\Lenovo\\AppData\\Roaming\\nltk_data...\n",
      "[nltk_data]   Package stopwords is already up-to-date!\n"
     ]
    }
   ],
   "source": [
    "# Import libraries\n",
    "import nltk\n",
    "nltk.download('stopwords')\n",
    "from nltk.corpus import stopwords\n",
    "from sklearn.feature_extraction.text import TfidfVectorizer\n",
    "from sklearn.naive_bayes import MultinomialNB\n",
    "from sklearn.svm import LinearSVC\n",
    "from sklearn.model_selection import train_test_split\n",
    "from sklearn.metrics import classification_report, accuracy_score"
   ]
  },
  {
   "cell_type": "code",
   "execution_count": 6,
   "id": "1925c86d",
   "metadata": {},
   "outputs": [],
   "source": [
    "# Sample labeled dataset\n",
    "texts = [\n",
    "    \"NLP is used in chatbots and sentiment analysis.\",             # Tech\n",
    "    \"Support vector machines perform well in classification.\",     # Tech\n",
    "    \"India won the cricket match yesterday.\",                      # Sports\n",
    "    \"Virat Kohli scored a century in the World Cup.\",              # Sports\n",
    "    \"New AI models are transforming the tech industry.\",           # Tech\n",
    "    \"Football and cricket are the most popular sports in India.\",  # Sports\n",
    "    \"Deep learning has improved machine translation.\",             # Tech\n",
    "    \"Sachin Tendulkar is a legendary cricket player.\",             # Sports\n",
    "    \"GPU acceleration helps train deep learning models.\",          # Tech\n",
    "    \"The final match of the IPL was thrilling and close.\"          # Sports\n",
    "]\n",
    "\n",
    "labels = [\"tech\", \"tech\", \"sports\", \"sports\", \"tech\", \"sports\", \"tech\", \"sports\", \"tech\", \"sports\"]\n",
    "\n",
    "# Split dataset\n",
    "X_train, X_test, y_train, y_test = train_test_split(texts, labels, test_size=0.33, random_state=42, stratify=labels)\n",
    "\n",
    "# Convert text to TF-IDF vectors\n",
    "vectorizer = TfidfVectorizer(stop_words=stopwords.words('english'))\n",
    "X_train_tfidf = vectorizer.fit_transform(X_train)\n",
    "X_test_tfidf = vectorizer.transform(X_test)"
   ]
  },
  {
   "cell_type": "code",
   "execution_count": 7,
   "id": "f2527736",
   "metadata": {},
   "outputs": [
    {
     "name": "stdout",
     "output_type": "stream",
     "text": [
      "🔹 Naive Bayes Results:\n",
      "Accuracy: 0.75\n",
      "              precision    recall  f1-score   support\n",
      "\n",
      "      sports       0.67      1.00      0.80         2\n",
      "        tech       1.00      0.50      0.67         2\n",
      "\n",
      "    accuracy                           0.75         4\n",
      "   macro avg       0.83      0.75      0.73         4\n",
      "weighted avg       0.83      0.75      0.73         4\n",
      "\n"
     ]
    }
   ],
   "source": [
    "# 1. Naive Bayes Classifier\n",
    "nb_model = MultinomialNB()\n",
    "nb_model.fit(X_train_tfidf, y_train)\n",
    "nb_preds = nb_model.predict(X_test_tfidf)\n",
    "\n",
    "print(\"🔹 Naive Bayes Results:\")\n",
    "print(\"Accuracy:\", accuracy_score(y_test, nb_preds))\n",
    "print(classification_report(y_test, nb_preds))"
   ]
  },
  {
   "cell_type": "code",
   "execution_count": 8,
   "id": "719ea107",
   "metadata": {},
   "outputs": [
    {
     "name": "stdout",
     "output_type": "stream",
     "text": [
      "\n",
      "🔹 SVM Results:\n",
      "Accuracy: 1.0\n",
      "              precision    recall  f1-score   support\n",
      "\n",
      "      sports       1.00      1.00      1.00         2\n",
      "        tech       1.00      1.00      1.00         2\n",
      "\n",
      "    accuracy                           1.00         4\n",
      "   macro avg       1.00      1.00      1.00         4\n",
      "weighted avg       1.00      1.00      1.00         4\n",
      "\n"
     ]
    }
   ],
   "source": [
    "# 2. SVM Classifier\n",
    "svm_model = LinearSVC()\n",
    "svm_model.fit(X_train_tfidf, y_train)\n",
    "svm_preds = svm_model.predict(X_test_tfidf)\n",
    "\n",
    "print(\"\\n🔹 SVM Results:\")\n",
    "print(\"Accuracy:\", accuracy_score(y_test, svm_preds))\n",
    "print(classification_report(y_test, svm_preds))"
   ]
  }
 ],
 "metadata": {
  "kernelspec": {
   "display_name": "Python 3",
   "language": "python",
   "name": "python3"
  },
  "language_info": {
   "codemirror_mode": {
    "name": "ipython",
    "version": 3
   },
   "file_extension": ".py",
   "mimetype": "text/x-python",
   "name": "python",
   "nbconvert_exporter": "python",
   "pygments_lexer": "ipython3",
   "version": "3.12.6"
  }
 },
 "nbformat": 4,
 "nbformat_minor": 5
}
