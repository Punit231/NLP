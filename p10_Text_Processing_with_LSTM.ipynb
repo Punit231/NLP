{
  "cells": [
    {
      "cell_type": "markdown",
      "id": "2565d607",
      "metadata": {
        "id": "2565d607"
      },
      "source": [
        "Practical - 10 : Implement text processing with LSTM (Long Short-Term Memory)."
      ]
    },
    {
      "cell_type": "code",
      "execution_count": 1,
      "id": "6c079ce0",
      "metadata": {
        "colab": {
          "base_uri": "https://localhost:8080/"
        },
        "id": "6c079ce0",
        "outputId": "57724a8b-b9f3-444d-f8b0-dad731b20622"
      },
      "outputs": [
        {
          "output_type": "stream",
          "name": "stderr",
          "text": [
            "[nltk_data] Downloading package stopwords to /root/nltk_data...\n",
            "[nltk_data]   Unzipping corpora/stopwords.zip.\n"
          ]
        }
      ],
      "source": [
        "# Import libraries\n",
        "import nltk\n",
        "nltk.download('stopwords')\n",
        "\n",
        "from nltk.corpus import stopwords\n",
        "from tensorflow.keras.preprocessing.text import Tokenizer\n",
        "from tensorflow.keras.preprocessing.sequence import pad_sequences\n",
        "from tensorflow.keras.models import Sequential\n",
        "from tensorflow.keras.layers import Embedding, LSTM, Dense\n",
        "from sklearn.model_selection import train_test_split\n",
        "from sklearn.preprocessing import LabelEncoder\n",
        "from tensorflow.keras.utils import to_categorical"
      ]
    },
    {
      "cell_type": "code",
      "execution_count": 2,
      "id": "9bf7c32c",
      "metadata": {
        "id": "9bf7c32c"
      },
      "outputs": [],
      "source": [
        "# Sample dataset\n",
        "texts = [\n",
        "    \"NLP is used in chatbots and sentiment analysis.\",\n",
        "    \"Support vector machines perform well in classification.\",\n",
        "    \"India won the cricket match yesterday.\",\n",
        "    \"Virat Kohli scored a century in the World Cup.\",\n",
        "    \"New AI models are transforming the tech industry.\",\n",
        "    \"Football and cricket are the most popular sports in India.\",\n",
        "    \"GPU acceleration helps train deep learning models.\",\n",
        "    \"Sachin Tendulkar is a legendary cricket player.\",\n",
        "    \"The final match of the IPL was thrilling and close.\",\n",
        "    \"Text classification is a common NLP task.\"\n",
        "]\n",
        "\n",
        "labels = [\"tech\", \"tech\", \"sports\", \"sports\", \"tech\", \"sports\", \"tech\", \"sports\", \"sports\", \"tech\"]"
      ]
    },
    {
      "cell_type": "code",
      "execution_count": 3,
      "id": "6254c492",
      "metadata": {
        "id": "6254c492"
      },
      "outputs": [],
      "source": [
        "# Encode labels\n",
        "encoder = LabelEncoder()\n",
        "y = encoder.fit_transform(labels)\n",
        "y = to_categorical(y)"
      ]
    },
    {
      "cell_type": "code",
      "execution_count": 4,
      "metadata": {
        "id": "vCfnDEjFpRaL"
      },
      "outputs": [],
      "source": [
        "# Tokenize and convert text to sequences\n",
        "tokenizer = Tokenizer(num_words=1000, lower=True, oov_token=\"<OOV>\")\n",
        "tokenizer.fit_on_texts(texts)\n",
        "sequences = tokenizer.texts_to_sequences(texts)"
      ],
      "id": "vCfnDEjFpRaL"
    },
    {
      "cell_type": "code",
      "execution_count": 5,
      "id": "aa888b51",
      "metadata": {
        "id": "aa888b51"
      },
      "outputs": [],
      "source": [
        "# Pad sequences to equal length\n",
        "max_length = max(len(seq) for seq in sequences)\n",
        "X = pad_sequences(sequences, maxlen=max_length, padding='post')"
      ]
    },
    {
      "cell_type": "code",
      "execution_count": 6,
      "metadata": {
        "id": "aD8U3smHpRaN"
      },
      "outputs": [],
      "source": [
        "# Train-test split\n",
        "X_train, X_test, y_train, y_test = train_test_split(X, y, test_size=0.3, random_state=42)"
      ],
      "id": "aD8U3smHpRaN"
    },
    {
      "cell_type": "code",
      "execution_count": 7,
      "id": "1c1af9fb",
      "metadata": {
        "colab": {
          "base_uri": "https://localhost:8080/"
        },
        "id": "1c1af9fb",
        "outputId": "164d1604-6b04-44e5-cc87-3e1281848180"
      },
      "outputs": [
        {
          "output_type": "stream",
          "name": "stderr",
          "text": [
            "/usr/local/lib/python3.11/dist-packages/keras/src/layers/core/embedding.py:90: UserWarning: Argument `input_length` is deprecated. Just remove it.\n",
            "  warnings.warn(\n"
          ]
        }
      ],
      "source": [
        "# Build LSTM model\n",
        "model = Sequential([\n",
        "    Embedding(input_dim=1000, output_dim=64, input_length=max_length),\n",
        "    LSTM(64, return_sequences=False),\n",
        "    Dense(32, activation='relu'),\n",
        "    Dense(y.shape[1], activation='softmax')\n",
        "])\n",
        "\n",
        "model.compile(loss='categorical_crossentropy', optimizer='adam', metrics=['accuracy'])"
      ]
    },
    {
      "cell_type": "code",
      "execution_count": 8,
      "id": "1eae163d",
      "metadata": {
        "colab": {
          "base_uri": "https://localhost:8080/"
        },
        "id": "1eae163d",
        "outputId": "917079aa-32f9-440a-c2b2-ab6d68d25e67"
      },
      "outputs": [
        {
          "output_type": "stream",
          "name": "stdout",
          "text": [
            "Epoch 1/10\n",
            "\u001b[1m4/4\u001b[0m \u001b[32m━━━━━━━━━━━━━━━━━━━━\u001b[0m\u001b[37m\u001b[0m \u001b[1m5s\u001b[0m 29ms/step - accuracy: 0.1405 - loss: 0.6996   \n",
            "Epoch 2/10\n",
            "\u001b[1m4/4\u001b[0m \u001b[32m━━━━━━━━━━━━━━━━━━━━\u001b[0m\u001b[37m\u001b[0m \u001b[1m0s\u001b[0m 33ms/step - accuracy: 0.8024 - loss: 0.6883\n",
            "Epoch 3/10\n",
            "\u001b[1m4/4\u001b[0m \u001b[32m━━━━━━━━━━━━━━━━━━━━\u001b[0m\u001b[37m\u001b[0m \u001b[1m0s\u001b[0m 26ms/step - accuracy: 0.6690 - loss: 0.6829\n",
            "Epoch 4/10\n",
            "\u001b[1m4/4\u001b[0m \u001b[32m━━━━━━━━━━━━━━━━━━━━\u001b[0m\u001b[37m\u001b[0m \u001b[1m0s\u001b[0m 26ms/step - accuracy: 0.6190 - loss: 0.6763\n",
            "Epoch 5/10\n",
            "\u001b[1m4/4\u001b[0m \u001b[32m━━━━━━━━━━━━━━━━━━━━\u001b[0m\u001b[37m\u001b[0m \u001b[1m0s\u001b[0m 27ms/step - accuracy: 0.6190 - loss: 0.6667\n",
            "Epoch 6/10\n",
            "\u001b[1m4/4\u001b[0m \u001b[32m━━━━━━━━━━━━━━━━━━━━\u001b[0m\u001b[37m\u001b[0m \u001b[1m0s\u001b[0m 16ms/step - accuracy: 1.0000 - loss: 0.6410\n",
            "Epoch 7/10\n",
            "\u001b[1m4/4\u001b[0m \u001b[32m━━━━━━━━━━━━━━━━━━━━\u001b[0m\u001b[37m\u001b[0m \u001b[1m0s\u001b[0m 16ms/step - accuracy: 1.0000 - loss: 0.6097\n",
            "Epoch 8/10\n",
            "\u001b[1m4/4\u001b[0m \u001b[32m━━━━━━━━━━━━━━━━━━━━\u001b[0m\u001b[37m\u001b[0m \u001b[1m0s\u001b[0m 16ms/step - accuracy: 1.0000 - loss: 0.5534\n",
            "Epoch 9/10\n",
            "\u001b[1m4/4\u001b[0m \u001b[32m━━━━━━━━━━━━━━━━━━━━\u001b[0m\u001b[37m\u001b[0m \u001b[1m0s\u001b[0m 17ms/step - accuracy: 1.0000 - loss: 0.4666\n",
            "Epoch 10/10\n",
            "\u001b[1m4/4\u001b[0m \u001b[32m━━━━━━━━━━━━━━━━━━━━\u001b[0m\u001b[37m\u001b[0m \u001b[1m0s\u001b[0m 21ms/step - accuracy: 1.0000 - loss: 0.3238\n"
          ]
        },
        {
          "output_type": "execute_result",
          "data": {
            "text/plain": [
              "<keras.src.callbacks.history.History at 0x7ac8113d7d90>"
            ]
          },
          "metadata": {},
          "execution_count": 8
        }
      ],
      "source": [
        "# Train model\n",
        "model.fit(X_train, y_train, epochs=10, batch_size=2, verbose=1)"
      ]
    },
    {
      "cell_type": "code",
      "execution_count": 9,
      "id": "422457de",
      "metadata": {
        "colab": {
          "base_uri": "https://localhost:8080/"
        },
        "id": "422457de",
        "outputId": "810d3e4b-5f02-4b8b-db2a-39f4e3a653b2"
      },
      "outputs": [
        {
          "output_type": "stream",
          "name": "stdout",
          "text": [
            "\u001b[1m1/1\u001b[0m \u001b[32m━━━━━━━━━━━━━━━━━━━━\u001b[0m\u001b[37m\u001b[0m \u001b[1m0s\u001b[0m 431ms/step - accuracy: 1.0000 - loss: 0.5772\n",
            "\n",
            "🔹 Test Accuracy: 1.00\n"
          ]
        }
      ],
      "source": [
        "# Evaluate\n",
        "loss, accuracy = model.evaluate(X_test, y_test)\n",
        "print(f\"\\n🔹 Test Accuracy: {accuracy:.2f}\")"
      ]
    }
  ],
  "metadata": {
    "language_info": {
      "name": "python"
    },
    "colab": {
      "provenance": []
    },
    "kernelspec": {
      "name": "python3",
      "display_name": "Python 3"
    }
  },
  "nbformat": 4,
  "nbformat_minor": 5
}