{
  "cells": [
    {
      "cell_type": "markdown",
      "id": "03895f66",
      "metadata": {
        "id": "03895f66"
      },
      "source": [
        "Practical - 9 : Implement text processing with neural network."
      ]
    },
    {
      "cell_type": "code",
      "execution_count": 7,
      "id": "d6a33756",
      "metadata": {
        "id": "d6a33756",
        "outputId": "86830149-1404-4bb5-d35e-116bb8b0b711",
        "colab": {
          "base_uri": "https://localhost:8080/"
        }
      },
      "outputs": [
        {
          "output_type": "stream",
          "name": "stderr",
          "text": [
            "[nltk_data] Downloading package stopwords to /root/nltk_data...\n",
            "[nltk_data]   Package stopwords is already up-to-date!\n"
          ]
        }
      ],
      "source": [
        "# Import libraries\n",
        "import nltk\n",
        "nltk.download('stopwords')\n",
        "from nltk.corpus import stopwords\n",
        "from sklearn.feature_extraction.text import TfidfVectorizer\n",
        "from sklearn.model_selection import train_test_split\n",
        "from sklearn.preprocessing import LabelEncoder\n",
        "from tensorflow.keras.models import Sequential\n",
        "from tensorflow.keras.layers import Dense\n",
        "from tensorflow.keras.utils import to_categorical"
      ]
    },
    {
      "cell_type": "code",
      "execution_count": 8,
      "id": "faf0b57c",
      "metadata": {
        "id": "faf0b57c"
      },
      "outputs": [],
      "source": [
        "# Sample Text Dataset\n",
        "texts = [\n",
        "    \"NLP is used in chatbots and sentiment analysis.\",\n",
        "    \"Support vector machines perform well in classification.\",\n",
        "    \"India won the cricket match yesterday.\",\n",
        "    \"Virat Kohli scored a century in the World Cup.\",\n",
        "    \"New AI models are transforming the tech industry.\",\n",
        "    \"Football and cricket are the most popular sports in India.\",\n",
        "    \"GPU acceleration helps train deep learning models.\",\n",
        "    \"Sachin Tendulkar is a legendary cricket player.\",\n",
        "    \"The final match of the IPL was thrilling and close.\",\n",
        "    \"Text classification is a common NLP task.\"\n",
        "]\n",
        "\n",
        "labels = [\"tech\", \"tech\", \"sports\", \"sports\", \"tech\", \"sports\", \"tech\", \"sports\", \"sports\", \"tech\"]"
      ]
    },
    {
      "cell_type": "code",
      "execution_count": 9,
      "metadata": {
        "id": "2Emo8Bmni86I"
      },
      "outputs": [],
      "source": [
        "# Vectorize text using TF-IDF\n",
        "vectorizer = TfidfVectorizer(stop_words=stopwords.words('english'))\n",
        "X = vectorizer.fit_transform(texts).toarray()"
      ],
      "id": "2Emo8Bmni86I"
    },
    {
      "cell_type": "code",
      "execution_count": 10,
      "id": "c31a9748",
      "metadata": {
        "id": "c31a9748"
      },
      "outputs": [],
      "source": [
        "# Encode labels to numerical\n",
        "encoder = LabelEncoder()\n",
        "y_encoded = encoder.fit_transform(labels)\n",
        "y_categorical = to_categorical(y_encoded)"
      ]
    },
    {
      "cell_type": "code",
      "execution_count": 11,
      "metadata": {
        "id": "UCNtc-y3i86K"
      },
      "outputs": [],
      "source": [
        "# Train-test split\n",
        "X_train, X_test, y_train, y_test = train_test_split(X, y_categorical, test_size=0.3, random_state=42)"
      ],
      "id": "UCNtc-y3i86K"
    },
    {
      "cell_type": "code",
      "execution_count": 12,
      "metadata": {
        "id": "8sxupKRoi86K",
        "outputId": "cac8ec49-f0f2-42db-c43f-6810482d43f2",
        "colab": {
          "base_uri": "https://localhost:8080/"
        }
      },
      "outputs": [
        {
          "output_type": "stream",
          "name": "stderr",
          "text": [
            "/usr/local/lib/python3.11/dist-packages/keras/src/layers/core/dense.py:87: UserWarning: Do not pass an `input_shape`/`input_dim` argument to a layer. When using Sequential models, prefer using an `Input(shape)` object as the first layer in the model instead.\n",
            "  super().__init__(activity_regularizer=activity_regularizer, **kwargs)\n"
          ]
        },
        {
          "output_type": "stream",
          "name": "stdout",
          "text": [
            "Epoch 1/10\n",
            "\u001b[1m4/4\u001b[0m \u001b[32m━━━━━━━━━━━━━━━━━━━━\u001b[0m\u001b[37m\u001b[0m \u001b[1m4s\u001b[0m 38ms/step - accuracy: 0.5619 - loss: 0.6707\n",
            "Epoch 2/10\n",
            "\u001b[1m4/4\u001b[0m \u001b[32m━━━━━━━━━━━━━━━━━━━━\u001b[0m\u001b[37m\u001b[0m \u001b[1m0s\u001b[0m 28ms/step - accuracy: 0.6190 - loss: 0.6709\n",
            "Epoch 3/10\n",
            "\u001b[1m4/4\u001b[0m \u001b[32m━━━━━━━━━━━━━━━━━━━━\u001b[0m\u001b[37m\u001b[0m \u001b[1m0s\u001b[0m 28ms/step - accuracy: 0.8524 - loss: 0.6063 \n",
            "Epoch 4/10\n",
            "\u001b[1m4/4\u001b[0m \u001b[32m━━━━━━━━━━━━━━━━━━━━\u001b[0m\u001b[37m\u001b[0m \u001b[1m0s\u001b[0m 13ms/step - accuracy: 0.6690 - loss: 0.6159\n",
            "Epoch 5/10\n",
            "\u001b[1m4/4\u001b[0m \u001b[32m━━━━━━━━━━━━━━━━━━━━\u001b[0m\u001b[37m\u001b[0m \u001b[1m0s\u001b[0m 14ms/step - accuracy: 1.0000 - loss: 0.5689\n",
            "Epoch 6/10\n",
            "\u001b[1m4/4\u001b[0m \u001b[32m━━━━━━━━━━━━━━━━━━━━\u001b[0m\u001b[37m\u001b[0m \u001b[1m0s\u001b[0m 13ms/step - accuracy: 1.0000 - loss: 0.5355\n",
            "Epoch 7/10\n",
            "\u001b[1m4/4\u001b[0m \u001b[32m━━━━━━━━━━━━━━━━━━━━\u001b[0m\u001b[37m\u001b[0m \u001b[1m0s\u001b[0m 14ms/step - accuracy: 1.0000 - loss: 0.5205\n",
            "Epoch 8/10\n",
            "\u001b[1m4/4\u001b[0m \u001b[32m━━━━━━━━━━━━━━━━━━━━\u001b[0m\u001b[37m\u001b[0m \u001b[1m0s\u001b[0m 13ms/step - accuracy: 1.0000 - loss: 0.5365 \n",
            "Epoch 9/10\n",
            "\u001b[1m4/4\u001b[0m \u001b[32m━━━━━━━━━━━━━━━━━━━━\u001b[0m\u001b[37m\u001b[0m \u001b[1m0s\u001b[0m 19ms/step - accuracy: 1.0000 - loss: 0.5113 \n",
            "Epoch 10/10\n",
            "\u001b[1m4/4\u001b[0m \u001b[32m━━━━━━━━━━━━━━━━━━━━\u001b[0m\u001b[37m\u001b[0m \u001b[1m0s\u001b[0m 20ms/step - accuracy: 1.0000 - loss: 0.4595\n",
            "\u001b[1m1/1\u001b[0m \u001b[32m━━━━━━━━━━━━━━━━━━━━\u001b[0m\u001b[37m\u001b[0m \u001b[1m0s\u001b[0m 200ms/step - accuracy: 1.0000 - loss: 0.5978\n",
            "\n",
            "🔹 Test Accuracy: 1.00\n"
          ]
        }
      ],
      "source": [
        "# Build Neural Network\n",
        "model = Sequential([\n",
        "    Dense(64, activation='relu', input_shape=(X.shape[1],)),\n",
        "    Dense(32, activation='relu'),\n",
        "    Dense(y_categorical.shape[1], activation='softmax')  # Output layer\n",
        "])\n",
        "\n",
        "model.compile(optimizer='adam', loss='categorical_crossentropy', metrics=['accuracy'])\n",
        "\n",
        "# Train model\n",
        "model.fit(X_train, y_train, epochs=10, batch_size=2, verbose=1)\n",
        "\n",
        "# Evaluate\n",
        "loss, acc = model.evaluate(X_test, y_test)\n",
        "print(f\"\\n🔹 Test Accuracy: {acc:.2f}\")"
      ],
      "id": "8sxupKRoi86K"
    }
  ],
  "metadata": {
    "kernelspec": {
      "display_name": "Python 3",
      "language": "python",
      "name": "python3"
    },
    "language_info": {
      "codemirror_mode": {
        "name": "ipython",
        "version": 3
      },
      "file_extension": ".py",
      "mimetype": "text/x-python",
      "name": "python",
      "nbconvert_exporter": "python",
      "pygments_lexer": "ipython3",
      "version": "3.12.6"
    },
    "colab": {
      "provenance": []
    }
  },
  "nbformat": 4,
  "nbformat_minor": 5
}