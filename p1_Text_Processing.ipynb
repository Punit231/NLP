{
 "cells": [
  {
   "cell_type": "markdown",
   "id": "db54a321",
   "metadata": {},
   "source": [
    "Practical-1 : Basic Text Processing operation on text document."
   ]
  },
  {
   "cell_type": "code",
   "execution_count": 18,
   "id": "ccb19e54",
   "metadata": {},
   "outputs": [],
   "source": [
    "# Import required \n",
    "import os\n",
    "os.environ['NLTK_DATA'] = 'C:/nltk_data'\n",
    "\n",
    "import nltk\n",
    "import string\n",
    "from nltk.corpus import stopwords\n",
    "from nltk.tokenize import word_tokenize\n",
    "from nltk.stem import PorterStemmer, WordNetLemmatizer"
   ]
  },
  {
   "cell_type": "code",
   "execution_count": 19,
   "id": "f6e48789",
   "metadata": {},
   "outputs": [
    {
     "name": "stderr",
     "output_type": "stream",
     "text": [
      "[nltk_data] Downloading package punkt to C:/nltk_data...\n",
      "[nltk_data]   Package punkt is already up-to-date!\n",
      "[nltk_data] Downloading package punkt_tab to C:/nltk_data...\n",
      "[nltk_data]   Package punkt_tab is already up-to-date!\n",
      "[nltk_data] Downloading package stopwords to C:/nltk_data...\n",
      "[nltk_data]   Package stopwords is already up-to-date!\n",
      "[nltk_data] Downloading package wordnet to C:/nltk_data...\n",
      "[nltk_data]   Package wordnet is already up-to-date!\n"
     ]
    },
    {
     "data": {
      "text/plain": [
       "True"
      ]
     },
     "execution_count": 19,
     "metadata": {},
     "output_type": "execute_result"
    }
   ],
   "source": [
    "# Download necessary resources\n",
    "nltk.download('punkt', download_dir='C:/nltk_data')\n",
    "nltk.download('punkt_tab', download_dir='C:/nltk_data')\n",
    "nltk.download('stopwords', download_dir='C:/nltk_data')\n",
    "nltk.download('wordnet', download_dir='C:/nltk_data')"
   ]
  },
  {
   "cell_type": "code",
   "execution_count": 20,
   "id": "2e157846",
   "metadata": {},
   "outputs": [],
   "source": [
    "# Sample text (you can replace this with file reading logic)\n",
    "text = \"\"\"Natural Language Processing (NLP) is a field of artificial intelligence.\"\"\""
   ]
  },
  {
   "cell_type": "code",
   "execution_count": 21,
   "id": "2f6947ff",
   "metadata": {},
   "outputs": [
    {
     "name": "stdout",
     "output_type": "stream",
     "text": [
      "Lowercased Text:\n",
      " natural language processing (nlp) is a field of artificial intelligence.\n"
     ]
    }
   ],
   "source": [
    "# 1. Convert to lowercase\n",
    "text_lower = text.lower()\n",
    "print(\"Lowercased Text:\\n\", text_lower)"
   ]
  },
  {
   "cell_type": "code",
   "execution_count": 22,
   "id": "8953348b",
   "metadata": {},
   "outputs": [
    {
     "name": "stdout",
     "output_type": "stream",
     "text": [
      "\n",
      "Text without punctuation:\n",
      " natural language processing nlp is a field of artificial intelligence\n"
     ]
    }
   ],
   "source": [
    "# 2. Remove punctuation\n",
    "text_no_punct = text_lower.translate(str.maketrans('', '', string.punctuation))\n",
    "print(\"\\nText without punctuation:\\n\", text_no_punct)"
   ]
  },
  {
   "cell_type": "code",
   "execution_count": 23,
   "id": "65e1776a",
   "metadata": {},
   "outputs": [
    {
     "name": "stdout",
     "output_type": "stream",
     "text": [
      "\n",
      "Tokens:\n",
      " ['natural', 'language', 'processing', 'nlp', 'is', 'a', 'field', 'of', 'artificial', 'intelligence']\n"
     ]
    }
   ],
   "source": [
    "# 3. Tokenization\n",
    "tokens = word_tokenize(text_no_punct)\n",
    "print(\"\\nTokens:\\n\", tokens)"
   ]
  },
  {
   "cell_type": "code",
   "execution_count": 24,
   "id": "5f64262a",
   "metadata": {},
   "outputs": [
    {
     "name": "stdout",
     "output_type": "stream",
     "text": [
      "\n",
      "Tokens after stopword removal:\n",
      " ['natural', 'language', 'processing', 'nlp', 'field', 'artificial', 'intelligence']\n"
     ]
    }
   ],
   "source": [
    "# 4. Remove stopwords\n",
    "stop_words = set(stopwords.words('english'))\n",
    "filtered_tokens = [word for word in tokens if word not in stop_words]\n",
    "print(\"\\nTokens after stopword removal:\\n\", filtered_tokens)"
   ]
  },
  {
   "cell_type": "code",
   "execution_count": 25,
   "id": "9c314069",
   "metadata": {},
   "outputs": [
    {
     "name": "stdout",
     "output_type": "stream",
     "text": [
      "\n",
      "Stemmed Tokens:\n",
      " ['natur', 'languag', 'process', 'nlp', 'field', 'artifici', 'intellig']\n"
     ]
    }
   ],
   "source": [
    "# 5. Stemming\n",
    "stemmer = PorterStemmer()\n",
    "stemmed_tokens = [stemmer.stem(word) for word in filtered_tokens]\n",
    "print(\"\\nStemmed Tokens:\\n\", stemmed_tokens)"
   ]
  },
  {
   "cell_type": "code",
   "execution_count": 26,
   "id": "211b9e3a",
   "metadata": {},
   "outputs": [
    {
     "name": "stdout",
     "output_type": "stream",
     "text": [
      "\n",
      "Lemmatized Tokens:\n",
      " ['natural', 'language', 'processing', 'nlp', 'field', 'artificial', 'intelligence']\n"
     ]
    }
   ],
   "source": [
    "# 6. Lemmatization\n",
    "lemmatizer = WordNetLemmatizer()\n",
    "lemmatized_tokens = [lemmatizer.lemmatize(word) for word in filtered_tokens]\n",
    "print(\"\\nLemmatized Tokens:\\n\", lemmatized_tokens)"
   ]
  }
 ],
 "metadata": {
  "kernelspec": {
   "display_name": "Python 3",
   "language": "python",
   "name": "python3"
  },
  "language_info": {
   "codemirror_mode": {
    "name": "ipython",
    "version": 3
   },
   "file_extension": ".py",
   "mimetype": "text/x-python",
   "name": "python",
   "nbconvert_exporter": "python",
   "pygments_lexer": "ipython3",
   "version": "3.12.6"
  }
 },
 "nbformat": 4,
 "nbformat_minor": 5
}
