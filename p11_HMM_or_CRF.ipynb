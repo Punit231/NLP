{
  "cells": [
    {
      "cell_type": "markdown",
      "id": "6910292c",
      "metadata": {
        "id": "6910292c"
      },
      "source": [
        "Practical - 11 : Implement HMM(Hidden Markov Model) / CRF(Conditional Random Field) on sequence tagging task."
      ]
    },
    {
      "cell_type": "code",
      "execution_count": 1,
      "id": "80da4ce7",
      "metadata": {
        "colab": {
          "base_uri": "https://localhost:8080/"
        },
        "id": "80da4ce7",
        "outputId": "07ce421f-8a3f-4e01-9646-8eb9ea004848"
      },
      "outputs": [
        {
          "output_type": "stream",
          "name": "stderr",
          "text": [
            "[nltk_data] Downloading package brown to /root/nltk_data...\n",
            "[nltk_data]   Unzipping corpora/brown.zip.\n",
            "[nltk_data] Downloading package universal_tagset to /root/nltk_data...\n",
            "[nltk_data]   Unzipping taggers/universal_tagset.zip.\n",
            "[nltk_data] Downloading package punkt to /root/nltk_data...\n",
            "[nltk_data]   Unzipping tokenizers/punkt.zip.\n"
          ]
        }
      ],
      "source": [
        "# Import necessary libraries\n",
        "import nltk\n",
        "nltk.download('brown')\n",
        "nltk.download('universal_tagset')\n",
        "nltk.download('punkt')\n",
        "\n",
        "from nltk.corpus import brown\n",
        "from nltk.tag import hmm\n",
        "from nltk import word_tokenize\n",
        "from sklearn.model_selection import train_test_split"
      ]
    },
    {
      "cell_type": "code",
      "execution_count": 2,
      "id": "8cc182da",
      "metadata": {
        "id": "8cc182da"
      },
      "outputs": [],
      "source": [
        "# Load data from Brown corpus\n",
        "data = brown.tagged_sents(tagset='universal')\n",
        "train_data, test_data = train_test_split(data, test_size=0.2, random_state=42)"
      ]
    },
    {
      "cell_type": "code",
      "execution_count": 3,
      "metadata": {
        "id": "UxYD2DRwt6yX"
      },
      "outputs": [],
      "source": [
        "# Train HMM Tagger\n",
        "trainer = hmm.HiddenMarkovModelTrainer()\n",
        "hmm_tagger = trainer.train(train_data)"
      ],
      "id": "UxYD2DRwt6yX"
    },
    {
      "cell_type": "code",
      "execution_count": 4,
      "id": "10ccaa03",
      "metadata": {
        "colab": {
          "base_uri": "https://localhost:8080/"
        },
        "id": "10ccaa03",
        "outputId": "e362798f-d7ee-42f4-8586-4dcf3e177ced"
      },
      "outputs": [
        {
          "output_type": "stream",
          "name": "stderr",
          "text": [
            "/usr/local/lib/python3.11/dist-packages/nltk/tag/hmm.py:335: RuntimeWarning: overflow encountered in cast\n",
            "  O[i, k] = self._output_logprob(si, self._symbols[k])\n",
            "/usr/local/lib/python3.11/dist-packages/nltk/tag/hmm.py:333: RuntimeWarning: overflow encountered in cast\n",
            "  X[i, j] = self._transitions[si].logprob(self._states[j])\n"
          ]
        },
        {
          "output_type": "stream",
          "name": "stdout",
          "text": [
            "🔹 Tagged Sentence:\n",
            "[('NLP', 'NOUN'), ('is', 'NOUN'), ('transforming', 'NOUN'), ('the', 'NOUN'), ('future', 'NOUN'), ('of', 'NOUN'), ('AI.', 'NOUN')]\n"
          ]
        },
        {
          "output_type": "stream",
          "name": "stderr",
          "text": [
            "/usr/local/lib/python3.11/dist-packages/nltk/tag/hmm.py:363: RuntimeWarning: overflow encountered in cast\n",
            "  O[i, k] = self._output_logprob(si, self._symbols[k])\n"
          ]
        }
      ],
      "source": [
        "# Test on a new sentence\n",
        "sentence = \"NLP is transforming the future of AI.\".split()\n",
        "tagged = hmm_tagger.tag(sentence)\n",
        "print(\"🔹 Tagged Sentence:\")\n",
        "print(tagged)"
      ]
    },
    {
      "cell_type": "code",
      "execution_count": 5,
      "id": "7a5b7d5a",
      "metadata": {
        "colab": {
          "base_uri": "https://localhost:8080/"
        },
        "id": "7a5b7d5a",
        "outputId": "67a544c6-63d2-423d-9c4b-45762c015414"
      },
      "outputs": [
        {
          "output_type": "stream",
          "name": "stderr",
          "text": [
            "/tmp/ipython-input-5-433852573.py:3: DeprecationWarning: \n",
            "  Function evaluate() has been deprecated.  Use accuracy(gold)\n",
            "  instead.\n",
            "  print(hmm_tagger.evaluate(test_data))\n"
          ]
        },
        {
          "output_type": "stream",
          "name": "stdout",
          "text": [
            "\n",
            "🔹 Accuracy on Test Data:\n",
            "0.7962376092477375\n"
          ]
        }
      ],
      "source": [
        "# Evaluate\n",
        "print(\"\\n🔹 Accuracy on Test Data:\")\n",
        "print(hmm_tagger.evaluate(test_data))"
      ]
    }
  ],
  "metadata": {
    "kernelspec": {
      "display_name": "Python 3",
      "language": "python",
      "name": "python3"
    },
    "language_info": {
      "codemirror_mode": {
        "name": "ipython",
        "version": 3
      },
      "file_extension": ".py",
      "mimetype": "text/x-python",
      "name": "python",
      "nbconvert_exporter": "python",
      "pygments_lexer": "ipython3",
      "version": "3.12.6"
    },
    "colab": {
      "provenance": []
    }
  },
  "nbformat": 4,
  "nbformat_minor": 5
}