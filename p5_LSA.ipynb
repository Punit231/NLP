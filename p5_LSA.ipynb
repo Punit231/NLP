{
 "cells": [
  {
   "cell_type": "markdown",
   "id": "14e147c2",
   "metadata": {},
   "source": [
    "Practical - 5 : Implement LSA (Latent Semantic Analysis) and Topic Model."
   ]
  },
  {
   "cell_type": "code",
   "execution_count": 1,
   "id": "e48bd03b",
   "metadata": {},
   "outputs": [
    {
     "name": "stderr",
     "output_type": "stream",
     "text": [
      "[nltk_data] Downloading package stopwords to\n",
      "[nltk_data]     C:\\Users\\Lenovo\\AppData\\Roaming\\nltk_data...\n",
      "[nltk_data]   Package stopwords is already up-to-date!\n"
     ]
    }
   ],
   "source": [
    "# Import libraries\n",
    "import nltk\n",
    "nltk.download('stopwords')\n",
    "from nltk.corpus import stopwords\n",
    "from sklearn.feature_extraction.text import TfidfVectorizer, CountVectorizer\n",
    "from sklearn.decomposition import TruncatedSVD, LatentDirichletAllocation\n",
    "import pandas as pd"
   ]
  },
  {
   "cell_type": "code",
   "execution_count": 2,
   "id": "25c83254",
   "metadata": {},
   "outputs": [],
   "source": [
    "# Sample documents\n",
    "documents = [\n",
    "    \"Natural language processing enables computers to understand human language.\",\n",
    "    \"Machine learning improves NLP with deep learning models.\",\n",
    "    \"Topic modeling and LSA are used for document analysis.\",\n",
    "    \"Latent Dirichlet Allocation is a generative topic model.\",\n",
    "    \"Word embeddings like Word2Vec and Glove help in NLP tasks.\",\n",
    "    \"Support Vector Machines can be used for text classification.\"\n",
    "]"
   ]
  },
  {
   "cell_type": "code",
   "execution_count": 3,
   "id": "707b68a7",
   "metadata": {},
   "outputs": [],
   "source": [
    "# Remove stopwords\n",
    "stop_words = stopwords.words('english')"
   ]
  },
  {
   "cell_type": "markdown",
   "id": "c78a0d44",
   "metadata": {},
   "source": [
    "PART 1: LSA using SVD"
   ]
  },
  {
   "cell_type": "code",
   "execution_count": 4,
   "id": "e9de37c1",
   "metadata": {},
   "outputs": [
    {
     "name": "stdout",
     "output_type": "stream",
     "text": [
      "\n",
      "🔹 LSA Topics (Top words per component):\n",
      "Topic 1:  ['topic', 'used', 'analysis', 'document', 'lsa']\n",
      "Topic 2:  ['learning', 'nlp', 'word', 'word2vec', 'embeddings']\n"
     ]
    }
   ],
   "source": [
    "# TF-IDF Vectorization\n",
    "tfidf = TfidfVectorizer(stop_words=stop_words)\n",
    "X_tfidf = tfidf.fit_transform(documents)\n",
    "\n",
    "# Apply LSA (Truncated SVD)\n",
    "lsa_model = TruncatedSVD(n_components=2)\n",
    "lsa_topic_matrix = lsa_model.fit_transform(X_tfidf)\n",
    "\n",
    "# Display topics\n",
    "print(\"\\n🔹 LSA Topics (Top words per component):\")\n",
    "terms = tfidf.get_feature_names_out()\n",
    "for i, comp in enumerate(lsa_model.components_):\n",
    "    terms_comp = zip(terms, comp)\n",
    "    sorted_terms = sorted(terms_comp, key=lambda x: x[1], reverse=True)[:5]\n",
    "    print(f\"Topic {i + 1}: \", [term for term, _ in sorted_terms])"
   ]
  },
  {
   "cell_type": "markdown",
   "id": "9915752a",
   "metadata": {},
   "source": [
    "PART 2: Topic Modeling using LDA"
   ]
  },
  {
   "cell_type": "code",
   "execution_count": 5,
   "id": "33cff378",
   "metadata": {},
   "outputs": [
    {
     "name": "stdout",
     "output_type": "stream",
     "text": [
      "\n",
      "🔹 LDA Topics (Top words per topic):\n",
      "Topic 1: ['enables', 'understand', 'topic', 'used', 'language']\n",
      "Topic 2: ['word', 'embeddings', 'word2vec', 'learning', 'nlp']\n"
     ]
    }
   ],
   "source": [
    "# Count Vectorization\n",
    "cv = CountVectorizer(stop_words=stop_words)\n",
    "X_cv = cv.fit_transform(documents)\n",
    "\n",
    "# Apply LDA\n",
    "lda = LatentDirichletAllocation(n_components=2, random_state=0)\n",
    "lda.fit(X_cv)\n",
    "\n",
    "# Display LDA topics\n",
    "print(\"\\n🔹 LDA Topics (Top words per topic):\")\n",
    "for idx, topic in enumerate(lda.components_):\n",
    "    top_words = [cv.get_feature_names_out()[i] for i in topic.argsort()[-5:]]\n",
    "    print(f\"Topic {idx + 1}: {top_words}\")"
   ]
  }
 ],
 "metadata": {
  "kernelspec": {
   "display_name": "Python 3",
   "language": "python",
   "name": "python3"
  },
  "language_info": {
   "codemirror_mode": {
    "name": "ipython",
    "version": 3
   },
   "file_extension": ".py",
   "mimetype": "text/x-python",
   "name": "python",
   "nbconvert_exporter": "python",
   "pygments_lexer": "ipython3",
   "version": "3.12.6"
  }
 },
 "nbformat": 4,
 "nbformat_minor": 5
}
