{
 "cells": [
  {
   "cell_type": "markdown",
   "id": "7bcc988c",
   "metadata": {},
   "source": [
    "Practical - 8 : Implement PoS (Part of Speech) Tagging on text."
   ]
  },
  {
   "cell_type": "code",
   "execution_count": 32,
   "id": "d6e5fb87",
   "metadata": {},
   "outputs": [
    {
     "name": "stderr",
     "output_type": "stream",
     "text": [
      "[nltk_data] Downloading package punkt to\n",
      "[nltk_data]     C:\\Users\\Lenovo\\AppData\\Roaming\\nltk_data...\n",
      "[nltk_data]   Package punkt is already up-to-date!\n",
      "[nltk_data] Downloading package averaged_perceptron_tagger to\n",
      "[nltk_data]     C:\\Users\\Lenovo\\AppData\\Roaming\\nltk_data...\n",
      "[nltk_data]   Package averaged_perceptron_tagger is already up-to-\n",
      "[nltk_data]       date!\n",
      "[nltk_data] Downloading package punkt_tab to\n",
      "[nltk_data]     C:\\Users\\Lenovo\\AppData\\Roaming\\nltk_data...\n",
      "[nltk_data]   Unzipping tokenizers\\punkt_tab.zip.\n",
      "[nltk_data] Downloading package averaged_perceptron_tagger_eng to\n",
      "[nltk_data]     C:\\Users\\Lenovo\\AppData\\Roaming\\nltk_data...\n",
      "[nltk_data]   Unzipping taggers\\averaged_perceptron_tagger_eng.zip.\n"
     ]
    }
   ],
   "source": [
    "# import required libraries\n",
    "import nltk\n",
    "nltk.download('punkt')\n",
    "nltk.download('averaged_perceptron_tagger')\n",
    "nltk.download('punkt_tab')\n",
    "nltk.download('averaged_perceptron_tagger_eng')\n",
    "\n",
    "from nltk.tokenize import word_tokenize\n",
    "from nltk import pos_tag"
   ]
  },
  {
   "cell_type": "code",
   "execution_count": 33,
   "id": "3eaa0a15",
   "metadata": {},
   "outputs": [],
   "source": [
    "# Sample text\n",
    "text = \"Natural Language Processing helps computers understand human language.\""
   ]
  },
  {
   "cell_type": "code",
   "execution_count": 34,
   "id": "5f1d15e8",
   "metadata": {},
   "outputs": [
    {
     "name": "stdout",
     "output_type": "stream",
     "text": [
      "🔹 Tokens: ['Natural', 'Language', 'Processing', 'helps', 'computers', 'understand', 'human', 'language', '.']\n"
     ]
    }
   ],
   "source": [
    "# Tokenize text\n",
    "tokens = word_tokenize(text)\n",
    "print(\"🔹 Tokens:\", tokens)"
   ]
  },
  {
   "cell_type": "code",
   "execution_count": 35,
   "id": "f2888b1b",
   "metadata": {},
   "outputs": [],
   "source": [
    "# Apply Part-of-Speech tagging\n",
    "pos_tags = pos_tag(tokens)"
   ]
  },
  {
   "cell_type": "code",
   "execution_count": 36,
   "id": "6843108a",
   "metadata": {},
   "outputs": [
    {
     "name": "stdout",
     "output_type": "stream",
     "text": [
      "🔹 POS Tags:\n",
      "Natural ➝ JJ\n",
      "Language ➝ NNP\n",
      "Processing ➝ NNP\n",
      "helps ➝ VBZ\n",
      "computers ➝ NNS\n",
      "understand ➝ VBP\n",
      "human ➝ JJ\n",
      "language ➝ NN\n",
      ". ➝ .\n"
     ]
    }
   ],
   "source": [
    "# Display results\n",
    "print(\"🔹 POS Tags:\")\n",
    "for word, tag in pos_tags:\n",
    "    print(f\"{word} ➝ {tag}\")"
   ]
  },
  {
   "cell_type": "markdown",
   "id": "688ebd33",
   "metadata": {},
   "source": [
    "| Tag | Meaning           |\n",
    "| --- | ----------------- |\n",
    "| NN  | Noun (singular)   |\n",
    "| NNS | Noun (plural)     |\n",
    "| VB  | Verb (base)       |\n",
    "| JJ  | Adjective         |\n",
    "| RB  | Adverb            |\n",
    "| PRP | Personal Pronoun  |\n",
    "| VBZ | Verb (3rd person) |"
   ]
  }
 ],
 "metadata": {
  "kernelspec": {
   "display_name": "Python 3",
   "language": "python",
   "name": "python3"
  },
  "language_info": {
   "codemirror_mode": {
    "name": "ipython",
    "version": 3
   },
   "file_extension": ".py",
   "mimetype": "text/x-python",
   "name": "python",
   "nbconvert_exporter": "python",
   "pygments_lexer": "ipython3",
   "version": "3.12.6"
  }
 },
 "nbformat": 4,
 "nbformat_minor": 5
}
